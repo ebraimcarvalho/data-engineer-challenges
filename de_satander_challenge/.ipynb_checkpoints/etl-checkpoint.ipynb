{
 "cells": [
  {
   "cell_type": "code",
   "execution_count": 6,
   "metadata": {},
   "outputs": [],
   "source": [
    "import pandas as pd\n",
    "import io\n",
    "import re"
   ]
  },
  {
   "cell_type": "code",
   "execution_count": 7,
   "metadata": {},
   "outputs": [],
   "source": [
    "# set show full width pandas dataframe\n",
    "\n",
    "pd.set_option('display.max_columns', None)\n",
    "pd.set_option('display.max_rows', None)\n",
    "pd.set_option('display.max_colwidth', None)"
   ]
  },
  {
   "cell_type": "code",
   "execution_count": 8,
   "metadata": {},
   "outputs": [],
   "source": [
    "# Set file paths input and output\n",
    "\n",
    "file_input = './datos_data_engineer.tsv'\n",
    "file_output = './datos_data_engineer.csv'"
   ]
  },
  {
   "cell_type": "code",
   "execution_count": 9,
   "metadata": {},
   "outputs": [],
   "source": [
    "# get all lines from file_input\n",
    "\n",
    "lines = (line for line in io.open(file_input, mode=\"r\"))"
   ]
  },
  {
   "cell_type": "code",
   "execution_count": 10,
   "metadata": {},
   "outputs": [],
   "source": [
    "# get lines without white space and split by tab for iterate\n",
    "\n",
    "lines_values = (line.rstrip().split('\\t') for line in lines)"
   ]
  },
  {
   "cell_type": "code",
   "execution_count": 11,
   "metadata": {},
   "outputs": [],
   "source": [
    "# set a dictionary to use in pandas dataframe\n",
    "\n",
    "dic = {'id': [], 'first_name': [], 'last_name': [], 'account_number': [], 'email': []}\n",
    "\n",
    "# Iterate over all lines_values\n",
    "# If line's length is equal to 5, do some transformation in values, keep only numbers for id and account_number\n",
    "# keep only letters for first_name and last_name, and keep only letters or @ or . in email\n",
    "\n",
    "# If line is broke, like two lines for one register, we need work inside else statement\n",
    "\n",
    "for line in lines_values:\n",
    "    if(len(line) == 5):\n",
    "        id, first_name, last_name, account_number, email = line\n",
    "        dic['id'].append(re.sub('[^0-9]', '', id))\n",
    "        dic['first_name'].append(re.sub('[^\\w]', '', first_name))\n",
    "        dic['last_name'].append(re.sub('[^\\w]', '', last_name))\n",
    "        dic['account_number'].append(re.sub('[^0-9]', '', account_number))\n",
    "        dic['email'].append((re.sub('[^\\w?(@)?(.)]', '', email)).lower())\n",
    "    else:\n",
    "        pass"
   ]
  },
  {
   "cell_type": "code",
   "execution_count": 12,
   "metadata": {},
   "outputs": [
    {
     "data": {
      "text/html": [
       "<div>\n",
       "<style scoped>\n",
       "    .dataframe tbody tr th:only-of-type {\n",
       "        vertical-align: middle;\n",
       "    }\n",
       "\n",
       "    .dataframe tbody tr th {\n",
       "        vertical-align: top;\n",
       "    }\n",
       "\n",
       "    .dataframe thead th {\n",
       "        text-align: right;\n",
       "    }\n",
       "</style>\n",
       "<table border=\"1\" class=\"dataframe\">\n",
       "  <thead>\n",
       "    <tr style=\"text-align: right;\">\n",
       "      <th></th>\n",
       "      <th>id</th>\n",
       "      <th>first_name</th>\n",
       "      <th>last_name</th>\n",
       "      <th>account_number</th>\n",
       "      <th>email</th>\n",
       "    </tr>\n",
       "  </thead>\n",
       "  <tbody>\n",
       "    <tr>\n",
       "      <th>0</th>\n",
       "      <td></td>\n",
       "      <td>first_name</td>\n",
       "      <td>last_name</td>\n",
       "      <td></td>\n",
       "      <td>email</td>\n",
       "    </tr>\n",
       "    <tr>\n",
       "      <th>1</th>\n",
       "      <td>1</td>\n",
       "      <td>Addison</td>\n",
       "      <td>Marks</td>\n",
       "      <td>196296</td>\n",
       "      <td>ornare.lectus@et.edu</td>\n",
       "    </tr>\n",
       "    <tr>\n",
       "      <th>2</th>\n",
       "      <td>2</td>\n",
       "      <td>Dakota</td>\n",
       "      <td>Garza</td>\n",
       "      <td>409025</td>\n",
       "      <td>scelerisque@praesentluctus.edu</td>\n",
       "    </tr>\n",
       "    <tr>\n",
       "      <th>3</th>\n",
       "      <td>3</td>\n",
       "      <td>Basia</td>\n",
       "      <td>Wolfe</td>\n",
       "      <td>637720</td>\n",
       "      <td>aliquam@nullaintegerurna.com</td>\n",
       "    </tr>\n",
       "    <tr>\n",
       "      <th>4</th>\n",
       "      <td>4</td>\n",
       "      <td>Germaine</td>\n",
       "      <td>Campbell</td>\n",
       "      <td>826846</td>\n",
       "      <td>id.magna@viverramaecenas.ca</td>\n",
       "    </tr>\n",
       "  </tbody>\n",
       "</table>\n",
       "</div>"
      ],
      "text/plain": [
       "  id  first_name  last_name account_number                           email\n",
       "0     first_name  last_name                                          email\n",
       "1  1     Addison      Marks         196296            ornare.lectus@et.edu\n",
       "2  2      Dakota      Garza         409025  scelerisque@praesentluctus.edu\n",
       "3  3       Basia      Wolfe         637720    aliquam@nullaintegerurna.com\n",
       "4  4    Germaine   Campbell         826846     id.magna@viverramaecenas.ca"
      ]
     },
     "execution_count": 12,
     "metadata": {},
     "output_type": "execute_result"
    }
   ],
   "source": [
    "# Create a pandas dataframe with our dictionary\n",
    "df = pd.DataFrame(data=dic)\n",
    "df.head()"
   ]
  },
  {
   "cell_type": "code",
   "execution_count": 13,
   "metadata": {},
   "outputs": [],
   "source": [
    "# Remove first line, because we already have our header\n",
    "df_final = df.iloc[1:]"
   ]
  },
  {
   "cell_type": "code",
   "execution_count": 14,
   "metadata": {},
   "outputs": [
    {
     "data": {
      "text/html": [
       "<div>\n",
       "<style scoped>\n",
       "    .dataframe tbody tr th:only-of-type {\n",
       "        vertical-align: middle;\n",
       "    }\n",
       "\n",
       "    .dataframe tbody tr th {\n",
       "        vertical-align: top;\n",
       "    }\n",
       "\n",
       "    .dataframe thead th {\n",
       "        text-align: right;\n",
       "    }\n",
       "</style>\n",
       "<table border=\"1\" class=\"dataframe\">\n",
       "  <thead>\n",
       "    <tr style=\"text-align: right;\">\n",
       "      <th></th>\n",
       "      <th>id</th>\n",
       "      <th>first_name</th>\n",
       "      <th>last_name</th>\n",
       "      <th>account_number</th>\n",
       "      <th>email</th>\n",
       "    </tr>\n",
       "  </thead>\n",
       "  <tbody>\n",
       "    <tr>\n",
       "      <th>1</th>\n",
       "      <td>1</td>\n",
       "      <td>Addison</td>\n",
       "      <td>Marks</td>\n",
       "      <td>196296</td>\n",
       "      <td>ornare.lectus@et.edu</td>\n",
       "    </tr>\n",
       "    <tr>\n",
       "      <th>2</th>\n",
       "      <td>2</td>\n",
       "      <td>Dakota</td>\n",
       "      <td>Garza</td>\n",
       "      <td>409025</td>\n",
       "      <td>scelerisque@praesentluctus.edu</td>\n",
       "    </tr>\n",
       "    <tr>\n",
       "      <th>3</th>\n",
       "      <td>3</td>\n",
       "      <td>Basia</td>\n",
       "      <td>Wolfe</td>\n",
       "      <td>637720</td>\n",
       "      <td>aliquam@nullaintegerurna.com</td>\n",
       "    </tr>\n",
       "    <tr>\n",
       "      <th>4</th>\n",
       "      <td>4</td>\n",
       "      <td>Germaine</td>\n",
       "      <td>Campbell</td>\n",
       "      <td>826846</td>\n",
       "      <td>id.magna@viverramaecenas.ca</td>\n",
       "    </tr>\n",
       "    <tr>\n",
       "      <th>5</th>\n",
       "      <td>5</td>\n",
       "      <td>Lenore</td>\n",
       "      <td>Pennington</td>\n",
       "      <td>345284</td>\n",
       "      <td>aliquam@integer.edu</td>\n",
       "    </tr>\n",
       "  </tbody>\n",
       "</table>\n",
       "</div>"
      ],
      "text/plain": [
       "  id first_name   last_name account_number                           email\n",
       "1  1    Addison       Marks         196296            ornare.lectus@et.edu\n",
       "2  2     Dakota       Garza         409025  scelerisque@praesentluctus.edu\n",
       "3  3      Basia       Wolfe         637720    aliquam@nullaintegerurna.com\n",
       "4  4   Germaine    Campbell         826846     id.magna@viverramaecenas.ca\n",
       "5  5     Lenore  Pennington         345284             aliquam@integer.edu"
      ]
     },
     "execution_count": 14,
     "metadata": {},
     "output_type": "execute_result"
    }
   ],
   "source": [
    "# set column id as index\n",
    "df_final.set_index('id')\n",
    "df_final.head()"
   ]
  },
  {
   "cell_type": "code",
   "execution_count": 15,
   "metadata": {},
   "outputs": [
    {
     "data": {
      "text/plain": [
       "(994, 5)"
      ]
     },
     "execution_count": 15,
     "metadata": {},
     "output_type": "execute_result"
    }
   ],
   "source": [
    "# look our shape dataframe\n",
    "\n",
    "df_final.shape"
   ]
  },
  {
   "cell_type": "code",
   "execution_count": 16,
   "metadata": {},
   "outputs": [],
   "source": [
    "# export to csv file, without index name lines\n",
    "\n",
    "df_final.to_csv(file_output,index=False)"
   ]
  },
  {
   "cell_type": "code",
   "execution_count": 17,
   "metadata": {},
   "outputs": [
    {
     "data": {
      "text/html": [
       "<div>\n",
       "<style scoped>\n",
       "    .dataframe tbody tr th:only-of-type {\n",
       "        vertical-align: middle;\n",
       "    }\n",
       "\n",
       "    .dataframe tbody tr th {\n",
       "        vertical-align: top;\n",
       "    }\n",
       "\n",
       "    .dataframe thead th {\n",
       "        text-align: right;\n",
       "    }\n",
       "</style>\n",
       "<table border=\"1\" class=\"dataframe\">\n",
       "  <thead>\n",
       "    <tr style=\"text-align: right;\">\n",
       "      <th></th>\n",
       "      <th>id</th>\n",
       "      <th>first_name</th>\n",
       "      <th>last_name</th>\n",
       "      <th>account_number</th>\n",
       "      <th>email</th>\n",
       "    </tr>\n",
       "  </thead>\n",
       "  <tbody>\n",
       "    <tr>\n",
       "      <th>0</th>\n",
       "      <td>1</td>\n",
       "      <td>Addison</td>\n",
       "      <td>Marks</td>\n",
       "      <td>196296</td>\n",
       "      <td>ornare.lectus@et.edu</td>\n",
       "    </tr>\n",
       "    <tr>\n",
       "      <th>1</th>\n",
       "      <td>2</td>\n",
       "      <td>Dakota</td>\n",
       "      <td>Garza</td>\n",
       "      <td>409025</td>\n",
       "      <td>scelerisque@praesentluctus.edu</td>\n",
       "    </tr>\n",
       "    <tr>\n",
       "      <th>2</th>\n",
       "      <td>3</td>\n",
       "      <td>Basia</td>\n",
       "      <td>Wolfe</td>\n",
       "      <td>637720</td>\n",
       "      <td>aliquam@nullaintegerurna.com</td>\n",
       "    </tr>\n",
       "    <tr>\n",
       "      <th>3</th>\n",
       "      <td>4</td>\n",
       "      <td>Germaine</td>\n",
       "      <td>Campbell</td>\n",
       "      <td>826846</td>\n",
       "      <td>id.magna@viverramaecenas.ca</td>\n",
       "    </tr>\n",
       "    <tr>\n",
       "      <th>4</th>\n",
       "      <td>5</td>\n",
       "      <td>Lenore</td>\n",
       "      <td>Pennington</td>\n",
       "      <td>345284</td>\n",
       "      <td>aliquam@integer.edu</td>\n",
       "    </tr>\n",
       "  </tbody>\n",
       "</table>\n",
       "</div>"
      ],
      "text/plain": [
       "   id first_name   last_name  account_number                           email\n",
       "0   1    Addison       Marks          196296            ornare.lectus@et.edu\n",
       "1   2     Dakota       Garza          409025  scelerisque@praesentluctus.edu\n",
       "2   3      Basia       Wolfe          637720    aliquam@nullaintegerurna.com\n",
       "3   4   Germaine    Campbell          826846     id.magna@viverramaecenas.ca\n",
       "4   5     Lenore  Pennington          345284             aliquam@integer.edu"
      ]
     },
     "execution_count": 17,
     "metadata": {},
     "output_type": "execute_result"
    }
   ],
   "source": [
    "# import our csv into another dataframe, for test\n",
    "\n",
    "dataframe = pd.read_csv(file_output)\n",
    "dataframe.head()"
   ]
  },
  {
   "cell_type": "code",
   "execution_count": 18,
   "metadata": {},
   "outputs": [
    {
     "data": {
      "text/plain": [
       "(994, 5)"
      ]
     },
     "execution_count": 18,
     "metadata": {},
     "output_type": "execute_result"
    }
   ],
   "source": [
    "# check shape if is equal\n",
    "\n",
    "dataframe.shape"
   ]
  }
 ],
 "metadata": {
  "kernelspec": {
   "display_name": "Python 3",
   "language": "python",
   "name": "python3"
  },
  "language_info": {
   "codemirror_mode": {
    "name": "ipython",
    "version": 3
   },
   "file_extension": ".py",
   "mimetype": "text/x-python",
   "name": "python",
   "nbconvert_exporter": "python",
   "pygments_lexer": "ipython3",
   "version": "3.8.5"
  }
 },
 "nbformat": 4,
 "nbformat_minor": 4
}
